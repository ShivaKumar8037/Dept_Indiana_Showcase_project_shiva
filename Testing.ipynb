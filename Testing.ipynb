{
 "cells": [
  {
   "cell_type": "code",
   "execution_count": 2,
   "metadata": {},
   "outputs": [],
   "source": [
    "import numpy as np\n",
    "import pandas as pd\n",
    "import matplotlib.pyplot as plt"
   ]
  },
  {
   "cell_type": "code",
   "execution_count": 3,
   "metadata": {},
   "outputs": [],
   "source": [
    "data = pd.read_csv('scraped_data.csv')"
   ]
  },
  {
   "cell_type": "code",
   "execution_count": 4,
   "metadata": {},
   "outputs": [
    {
     "data": {
      "text/html": [
       "<div>\n",
       "<style scoped>\n",
       "    .dataframe tbody tr th:only-of-type {\n",
       "        vertical-align: middle;\n",
       "    }\n",
       "\n",
       "    .dataframe tbody tr th {\n",
       "        vertical-align: top;\n",
       "    }\n",
       "\n",
       "    .dataframe thead th {\n",
       "        text-align: right;\n",
       "    }\n",
       "</style>\n",
       "<table border=\"1\" class=\"dataframe\">\n",
       "  <thead>\n",
       "    <tr style=\"text-align: right;\">\n",
       "      <th></th>\n",
       "      <th>odd</th>\n",
       "      <th>odd 2</th>\n",
       "      <th>odd 3</th>\n",
       "      <th>odd 4</th>\n",
       "      <th>odd 5</th>\n",
       "      <th>odd href</th>\n",
       "      <th>even</th>\n",
       "      <th>even 2</th>\n",
       "      <th>even 3</th>\n",
       "      <th>even 4</th>\n",
       "      <th>even 5</th>\n",
       "      <th>even href</th>\n",
       "    </tr>\n",
       "  </thead>\n",
       "  <tbody>\n",
       "    <tr>\n",
       "      <th>0</th>\n",
       "      <td>1 Brick Insurance, LLC</td>\n",
       "      <td>No\\n  Violation</td>\n",
       "      <td>2017-07-21</td>\n",
       "      <td>Vacate\\n  Suspension</td>\n",
       "      <td>13740-AG15-0303-063</td>\n",
       "      <td>https://www.in.gov/idoi/files/enforcement/1374...</td>\n",
       "      <td>NaN</td>\n",
       "      <td>NaN</td>\n",
       "      <td>NaN</td>\n",
       "      <td>NaN</td>\n",
       "      <td>NaN</td>\n",
       "      <td>NaN</td>\n",
       "    </tr>\n",
       "    <tr>\n",
       "      <th>1</th>\n",
       "      <td>NaN</td>\n",
       "      <td>NaN</td>\n",
       "      <td>NaN</td>\n",
       "      <td>NaN</td>\n",
       "      <td>NaN</td>\n",
       "      <td>NaN</td>\n",
       "      <td>1st and Goal Inc.</td>\n",
       "      <td>Failure to Respond</td>\n",
       "      <td>2009-05-21</td>\n",
       "      <td>Suspension of License</td>\n",
       "      <td>7980-AG09-0515-093</td>\n",
       "      <td>https://www.in.gov/idoi/files/enforcement/7980...</td>\n",
       "    </tr>\n",
       "    <tr>\n",
       "      <th>2</th>\n",
       "      <td>35 Realserv, Inc.</td>\n",
       "      <td>Failure to Respond</td>\n",
       "      <td>2009-05-21</td>\n",
       "      <td>Suspension of License</td>\n",
       "      <td>7983-AG09-0515-094</td>\n",
       "      <td>https://www.in.gov/idoi/files/enforcement/7983...</td>\n",
       "      <td>NaN</td>\n",
       "      <td>NaN</td>\n",
       "      <td>NaN</td>\n",
       "      <td>NaN</td>\n",
       "      <td>NaN</td>\n",
       "      <td>NaN</td>\n",
       "    </tr>\n",
       "    <tr>\n",
       "      <th>3</th>\n",
       "      <td>NaN</td>\n",
       "      <td>NaN</td>\n",
       "      <td>NaN</td>\n",
       "      <td>NaN</td>\n",
       "      <td>NaN</td>\n",
       "      <td>NaN</td>\n",
       "      <td>A &amp; R Closing and Title, Inc.</td>\n",
       "      <td>Failure\\n  to Provide List of Appointments</td>\n",
       "      <td>2007-09-10</td>\n",
       "      <td>License\\n  Suspended</td>\n",
       "      <td>5601-AG07-0827-231</td>\n",
       "      <td>https://www.in.gov/idoi/files/enforcement/5601...</td>\n",
       "    </tr>\n",
       "    <tr>\n",
       "      <th>4</th>\n",
       "      <td>A. D. Baker &amp; Company</td>\n",
       "      <td>Lack of\\n  Fitness/Trustworthiness</td>\n",
       "      <td>2000-12-13</td>\n",
       "      <td>Probation</td>\n",
       "      <td>168-IDOI-CO01-022</td>\n",
       "      <td>https://www.in.gov/idoi/files/enforcement/168-...</td>\n",
       "      <td>NaN</td>\n",
       "      <td>NaN</td>\n",
       "      <td>NaN</td>\n",
       "      <td>NaN</td>\n",
       "      <td>NaN</td>\n",
       "      <td>NaN</td>\n",
       "    </tr>\n",
       "  </tbody>\n",
       "</table>\n",
       "</div>"
      ],
      "text/plain": [
       "                      odd                               odd 2       odd 3  \\\n",
       "0  1 Brick Insurance, LLC                     No\\n  Violation  2017-07-21   \n",
       "1                     NaN                                 NaN         NaN   \n",
       "2       35 Realserv, Inc.                  Failure to Respond  2009-05-21   \n",
       "3                     NaN                                 NaN         NaN   \n",
       "4   A. D. Baker & Company  Lack of\\n  Fitness/Trustworthiness  2000-12-13   \n",
       "\n",
       "                   odd 4                odd 5  \\\n",
       "0   Vacate\\n  Suspension  13740-AG15-0303-063   \n",
       "1                    NaN                  NaN   \n",
       "2  Suspension of License   7983-AG09-0515-094   \n",
       "3                    NaN                  NaN   \n",
       "4              Probation    168-IDOI-CO01-022   \n",
       "\n",
       "                                            odd href  \\\n",
       "0  https://www.in.gov/idoi/files/enforcement/1374...   \n",
       "1                                                NaN   \n",
       "2  https://www.in.gov/idoi/files/enforcement/7983...   \n",
       "3                                                NaN   \n",
       "4  https://www.in.gov/idoi/files/enforcement/168-...   \n",
       "\n",
       "                            even                                      even 2  \\\n",
       "0                            NaN                                         NaN   \n",
       "1              1st and Goal Inc.                          Failure to Respond   \n",
       "2                            NaN                                         NaN   \n",
       "3  A & R Closing and Title, Inc.  Failure\\n  to Provide List of Appointments   \n",
       "4                            NaN                                         NaN   \n",
       "\n",
       "       even 3                 even 4              even 5  \\\n",
       "0         NaN                    NaN                 NaN   \n",
       "1  2009-05-21  Suspension of License  7980-AG09-0515-093   \n",
       "2         NaN                    NaN                 NaN   \n",
       "3  2007-09-10   License\\n  Suspended  5601-AG07-0827-231   \n",
       "4         NaN                    NaN                 NaN   \n",
       "\n",
       "                                           even href  \n",
       "0                                                NaN  \n",
       "1  https://www.in.gov/idoi/files/enforcement/7980...  \n",
       "2                                                NaN  \n",
       "3  https://www.in.gov/idoi/files/enforcement/5601...  \n",
       "4                                                NaN  "
      ]
     },
     "execution_count": 4,
     "metadata": {},
     "output_type": "execute_result"
    }
   ],
   "source": [
    "data.head()"
   ]
  },
  {
   "cell_type": "code",
   "execution_count": 11,
   "metadata": {},
   "outputs": [
    {
     "data": {
      "text/plain": [
       "5156"
      ]
     },
     "execution_count": 11,
     "metadata": {},
     "output_type": "execute_result"
    }
   ],
   "source": [
    "len(data)"
   ]
  },
  {
   "cell_type": "code",
   "execution_count": 33,
   "metadata": {},
   "outputs": [
    {
     "data": {
      "text/html": [
       "<div>\n",
       "<style scoped>\n",
       "    .dataframe tbody tr th:only-of-type {\n",
       "        vertical-align: middle;\n",
       "    }\n",
       "\n",
       "    .dataframe tbody tr th {\n",
       "        vertical-align: top;\n",
       "    }\n",
       "\n",
       "    .dataframe thead th {\n",
       "        text-align: right;\n",
       "    }\n",
       "</style>\n",
       "<table border=\"1\" class=\"dataframe\">\n",
       "  <thead>\n",
       "    <tr style=\"text-align: right;\">\n",
       "      <th></th>\n",
       "      <th>Company</th>\n",
       "      <th>Violation</th>\n",
       "      <th>Date</th>\n",
       "      <th>Action</th>\n",
       "      <th>Case Number</th>\n",
       "      <th>Link</th>\n",
       "    </tr>\n",
       "  </thead>\n",
       "  <tbody>\n",
       "    <tr>\n",
       "      <th>0</th>\n",
       "      <td>1 Brick Insurance, LLC</td>\n",
       "      <td>No  Violation</td>\n",
       "      <td>2017-07-21</td>\n",
       "      <td>Vacate  Suspension</td>\n",
       "      <td>13740-AG15-0303-063</td>\n",
       "      <td>https://www.in.gov/idoi/files/enforcement/1374...</td>\n",
       "    </tr>\n",
       "    <tr>\n",
       "      <th>1</th>\n",
       "      <td>35 Realserv, Inc.</td>\n",
       "      <td>Failure to Respond</td>\n",
       "      <td>2009-05-21</td>\n",
       "      <td>Suspension of License</td>\n",
       "      <td>7983-AG09-0515-094</td>\n",
       "      <td>https://www.in.gov/idoi/files/enforcement/7983...</td>\n",
       "    </tr>\n",
       "    <tr>\n",
       "      <th>2</th>\n",
       "      <td>A. D. Baker &amp; Company</td>\n",
       "      <td>Lack of  Fitness/Trustworthiness</td>\n",
       "      <td>2000-12-13</td>\n",
       "      <td>Probation</td>\n",
       "      <td>168-IDOI-CO01-022</td>\n",
       "      <td>https://www.in.gov/idoi/files/enforcement/168-...</td>\n",
       "    </tr>\n",
       "    <tr>\n",
       "      <th>3</th>\n",
       "      <td>A.F. Stevens &amp; Associates, Inc.</td>\n",
       "      <td>Misappropriation  of Premiums</td>\n",
       "      <td>2012-06-20</td>\n",
       "      <td>License  permanently Revoked</td>\n",
       "      <td>11032-AG12-0321-020</td>\n",
       "      <td>https://www.in.gov/idoi/files/enforcement/1103...</td>\n",
       "    </tr>\n",
       "    <tr>\n",
       "      <th>4</th>\n",
       "      <td>AA Title</td>\n",
       "      <td>Licensing  Violation</td>\n",
       "      <td>2013-11-08</td>\n",
       "      <td>$500  Civil Penalty</td>\n",
       "      <td>12463-AG13-1010-120</td>\n",
       "      <td>https://www.in.gov/idoi/files/enforcement/1246...</td>\n",
       "    </tr>\n",
       "  </tbody>\n",
       "</table>\n",
       "</div>"
      ],
      "text/plain": [
       "                           Company                         Violation  \\\n",
       "0           1 Brick Insurance, LLC                     No  Violation   \n",
       "1                35 Realserv, Inc.                Failure to Respond   \n",
       "2            A. D. Baker & Company  Lack of  Fitness/Trustworthiness   \n",
       "3  A.F. Stevens & Associates, Inc.     Misappropriation  of Premiums   \n",
       "4                         AA Title              Licensing  Violation   \n",
       "\n",
       "         Date                        Action          Case Number  \\\n",
       "0  2017-07-21            Vacate  Suspension  13740-AG15-0303-063   \n",
       "1  2009-05-21         Suspension of License   7983-AG09-0515-094   \n",
       "2  2000-12-13                     Probation    168-IDOI-CO01-022   \n",
       "3  2012-06-20  License  permanently Revoked  11032-AG12-0321-020   \n",
       "4  2013-11-08           $500  Civil Penalty  12463-AG13-1010-120   \n",
       "\n",
       "                                                Link  \n",
       "0  https://www.in.gov/idoi/files/enforcement/1374...  \n",
       "1  https://www.in.gov/idoi/files/enforcement/7983...  \n",
       "2  https://www.in.gov/idoi/files/enforcement/168-...  \n",
       "3  https://www.in.gov/idoi/files/enforcement/1103...  \n",
       "4  https://www.in.gov/idoi/files/enforcement/1246...  "
      ]
     },
     "execution_count": 33,
     "metadata": {},
     "output_type": "execute_result"
    }
   ],
   "source": [
    "odd_rows = data[['odd', 'odd 2', 'odd 3', 'odd 4', 'odd 5', 'odd href']].dropna().reset_index(drop=True)\n",
    "even_rows = data[['even', 'even 2', 'even 3', 'even 4', 'even 5', 'even href']].dropna().reset_index(drop=True)\n",
    "\n",
    "# Renaming columns to have a consistent naming convention\n",
    "odd_rows.columns = ['Company', 'Violation', 'Date', 'Action', 'Case Number', 'Link']\n",
    "even_rows.columns = ['Company', 'Violation', 'Date', 'Action', 'Case Number', 'Link']\n",
    "\n",
    "# Merging odd and even rows\n",
    "merged_df = pd.concat([odd_rows, even_rows], ignore_index=True)\n",
    "\n",
    "# Cleaning data by removing unnecessary newline and whitespace characters\n",
    "merged_df.replace(to_replace=[r\"\\\\t|\\\\n|\\\\r\", \"\\t|\\n|\\r\"], value=[\"\",\"\"], regex=True, inplace=True)\n",
    "\n",
    "# Display the cleaned dataframe\n",
    "merged_df.head()"
   ]
  },
  {
   "cell_type": "code",
   "execution_count": 54,
   "metadata": {},
   "outputs": [
    {
     "data": {
      "text/html": [
       "<div>\n",
       "<style scoped>\n",
       "    .dataframe tbody tr th:only-of-type {\n",
       "        vertical-align: middle;\n",
       "    }\n",
       "\n",
       "    .dataframe tbody tr th {\n",
       "        vertical-align: top;\n",
       "    }\n",
       "\n",
       "    .dataframe thead th {\n",
       "        text-align: right;\n",
       "    }\n",
       "</style>\n",
       "<table border=\"1\" class=\"dataframe\">\n",
       "  <thead>\n",
       "    <tr style=\"text-align: right;\">\n",
       "      <th></th>\n",
       "      <th>Company</th>\n",
       "      <th>Violation</th>\n",
       "      <th>Date</th>\n",
       "      <th>Action</th>\n",
       "      <th>Case Number</th>\n",
       "      <th>Link</th>\n",
       "      <th>Is Company</th>\n",
       "    </tr>\n",
       "  </thead>\n",
       "  <tbody>\n",
       "    <tr>\n",
       "      <th>0</th>\n",
       "      <td>1 Brick Insurance, LLC</td>\n",
       "      <td>No  Violation</td>\n",
       "      <td>2017-07-21</td>\n",
       "      <td>Vacate  Suspension</td>\n",
       "      <td>13740-AG15-0303-063</td>\n",
       "      <td>https://www.in.gov/idoi/files/enforcement/1374...</td>\n",
       "      <td>True</td>\n",
       "    </tr>\n",
       "    <tr>\n",
       "      <th>1</th>\n",
       "      <td>35 Realserv, Inc.</td>\n",
       "      <td>Failure to Respond</td>\n",
       "      <td>2009-05-21</td>\n",
       "      <td>Suspension of License</td>\n",
       "      <td>7983-AG09-0515-094</td>\n",
       "      <td>https://www.in.gov/idoi/files/enforcement/7983...</td>\n",
       "      <td>True</td>\n",
       "    </tr>\n",
       "    <tr>\n",
       "      <th>2</th>\n",
       "      <td>A. D. Baker &amp; Company</td>\n",
       "      <td>Lack of  Fitness/Trustworthiness</td>\n",
       "      <td>2000-12-13</td>\n",
       "      <td>Probation</td>\n",
       "      <td>168-IDOI-CO01-022</td>\n",
       "      <td>https://www.in.gov/idoi/files/enforcement/168-...</td>\n",
       "      <td>True</td>\n",
       "    </tr>\n",
       "    <tr>\n",
       "      <th>3</th>\n",
       "      <td>A.F. Stevens &amp; Associates, Inc.</td>\n",
       "      <td>Misappropriation  of Premiums</td>\n",
       "      <td>2012-06-20</td>\n",
       "      <td>License  permanently Revoked</td>\n",
       "      <td>11032-AG12-0321-020</td>\n",
       "      <td>https://www.in.gov/idoi/files/enforcement/1103...</td>\n",
       "      <td>True</td>\n",
       "    </tr>\n",
       "    <tr>\n",
       "      <th>4</th>\n",
       "      <td>AA Title</td>\n",
       "      <td>Licensing  Violation</td>\n",
       "      <td>2013-11-08</td>\n",
       "      <td>$500  Civil Penalty</td>\n",
       "      <td>12463-AG13-1010-120</td>\n",
       "      <td>https://www.in.gov/idoi/files/enforcement/1246...</td>\n",
       "      <td>False</td>\n",
       "    </tr>\n",
       "  </tbody>\n",
       "</table>\n",
       "</div>"
      ],
      "text/plain": [
       "                           Company                         Violation  \\\n",
       "0           1 Brick Insurance, LLC                     No  Violation   \n",
       "1                35 Realserv, Inc.                Failure to Respond   \n",
       "2            A. D. Baker & Company  Lack of  Fitness/Trustworthiness   \n",
       "3  A.F. Stevens & Associates, Inc.     Misappropriation  of Premiums   \n",
       "4                         AA Title              Licensing  Violation   \n",
       "\n",
       "         Date                        Action          Case Number  \\\n",
       "0  2017-07-21            Vacate  Suspension  13740-AG15-0303-063   \n",
       "1  2009-05-21         Suspension of License   7983-AG09-0515-094   \n",
       "2  2000-12-13                     Probation    168-IDOI-CO01-022   \n",
       "3  2012-06-20  License  permanently Revoked  11032-AG12-0321-020   \n",
       "4  2013-11-08           $500  Civil Penalty  12463-AG13-1010-120   \n",
       "\n",
       "                                                Link  Is Company  \n",
       "0  https://www.in.gov/idoi/files/enforcement/1374...        True  \n",
       "1  https://www.in.gov/idoi/files/enforcement/7983...        True  \n",
       "2  https://www.in.gov/idoi/files/enforcement/168-...        True  \n",
       "3  https://www.in.gov/idoi/files/enforcement/1103...        True  \n",
       "4  https://www.in.gov/idoi/files/enforcement/1246...       False  "
      ]
     },
     "execution_count": 54,
     "metadata": {},
     "output_type": "execute_result"
    }
   ],
   "source": [
    "business_designations = ['Inc', 'LLC', 'Ltd', 'Corporation', 'Corp', 'Company', 'Co.', 'Group', 'Association', 'Foundation', 'Solutions', 'Services', 'Holdings', 'Partners', 'Part', 'Industries', 'International', 'Global', 'Systems', 'Technologies', 'tech']\n",
    "\n",
    "# Function to determine if a name is likely a company name\n",
    "def is_company_name(name):\n",
    "    for designation in business_designations:\n",
    "        if designation in name:\n",
    "            return True\n",
    "    return False\n",
    "\n",
    "# Apply this function to the 'Company' column\n",
    "merged_df['Is Company'] = merged_df['Company'].apply(is_company_name)\n",
    "\n",
    "# Display a portion of the dataframe to see the results\n",
    "merged_df.head()"
   ]
  },
  {
   "cell_type": "code",
   "execution_count": 55,
   "metadata": {},
   "outputs": [
    {
     "data": {
      "text/plain": [
       "False    4490\n",
       "True      666\n",
       "Name: Is Company, dtype: int64"
      ]
     },
     "execution_count": 55,
     "metadata": {},
     "output_type": "execute_result"
    }
   ],
   "source": [
    "merged_df['Is Company'].value_counts()"
   ]
  },
  {
   "cell_type": "code",
   "execution_count": 58,
   "metadata": {},
   "outputs": [],
   "source": [
    "companies = merged_df[merged_df['Is Company'] == True]"
   ]
  },
  {
   "cell_type": "code",
   "execution_count": 60,
   "metadata": {},
   "outputs": [
    {
     "data": {
      "text/plain": [
       "666"
      ]
     },
     "execution_count": 60,
     "metadata": {},
     "output_type": "execute_result"
    }
   ],
   "source": [
    "len(companies)"
   ]
  },
  {
   "cell_type": "code",
   "execution_count": 61,
   "metadata": {},
   "outputs": [],
   "source": [
    "companies.reset_index(drop=True, inplace=True)"
   ]
  },
  {
   "cell_type": "code",
   "execution_count": 62,
   "metadata": {},
   "outputs": [
    {
     "data": {
      "text/plain": [
       "666"
      ]
     },
     "execution_count": 62,
     "metadata": {},
     "output_type": "execute_result"
    }
   ],
   "source": [
    "len(companies)"
   ]
  },
  {
   "cell_type": "code",
   "execution_count": 64,
   "metadata": {},
   "outputs": [
    {
     "name": "stderr",
     "output_type": "stream",
     "text": [
      "C:\\Users\\shiva\\AppData\\Local\\Temp\\ipykernel_9520\\1247673026.py:1: SettingWithCopyWarning: \n",
      "A value is trying to be set on a copy of a slice from a DataFrame\n",
      "\n",
      "See the caveats in the documentation: https://pandas.pydata.org/pandas-docs/stable/user_guide/indexing.html#returning-a-view-versus-a-copy\n",
      "  companies.drop(columns=['Is Company'], inplace=True)\n"
     ]
    }
   ],
   "source": [
    "companies.drop(columns=['Is Company'], inplace=True)"
   ]
  },
  {
   "cell_type": "code",
   "execution_count": 65,
   "metadata": {},
   "outputs": [
    {
     "data": {
      "text/html": [
       "<div>\n",
       "<style scoped>\n",
       "    .dataframe tbody tr th:only-of-type {\n",
       "        vertical-align: middle;\n",
       "    }\n",
       "\n",
       "    .dataframe tbody tr th {\n",
       "        vertical-align: top;\n",
       "    }\n",
       "\n",
       "    .dataframe thead th {\n",
       "        text-align: right;\n",
       "    }\n",
       "</style>\n",
       "<table border=\"1\" class=\"dataframe\">\n",
       "  <thead>\n",
       "    <tr style=\"text-align: right;\">\n",
       "      <th></th>\n",
       "      <th>Company</th>\n",
       "      <th>Violation</th>\n",
       "      <th>Date</th>\n",
       "      <th>Action</th>\n",
       "      <th>Case Number</th>\n",
       "      <th>Link</th>\n",
       "    </tr>\n",
       "  </thead>\n",
       "  <tbody>\n",
       "    <tr>\n",
       "      <th>0</th>\n",
       "      <td>1 Brick Insurance, LLC</td>\n",
       "      <td>No  Violation</td>\n",
       "      <td>2017-07-21</td>\n",
       "      <td>Vacate  Suspension</td>\n",
       "      <td>13740-AG15-0303-063</td>\n",
       "      <td>https://www.in.gov/idoi/files/enforcement/1374...</td>\n",
       "    </tr>\n",
       "    <tr>\n",
       "      <th>1</th>\n",
       "      <td>35 Realserv, Inc.</td>\n",
       "      <td>Failure to Respond</td>\n",
       "      <td>2009-05-21</td>\n",
       "      <td>Suspension of License</td>\n",
       "      <td>7983-AG09-0515-094</td>\n",
       "      <td>https://www.in.gov/idoi/files/enforcement/7983...</td>\n",
       "    </tr>\n",
       "    <tr>\n",
       "      <th>2</th>\n",
       "      <td>A. D. Baker &amp; Company</td>\n",
       "      <td>Lack of  Fitness/Trustworthiness</td>\n",
       "      <td>2000-12-13</td>\n",
       "      <td>Probation</td>\n",
       "      <td>168-IDOI-CO01-022</td>\n",
       "      <td>https://www.in.gov/idoi/files/enforcement/168-...</td>\n",
       "    </tr>\n",
       "    <tr>\n",
       "      <th>3</th>\n",
       "      <td>A.F. Stevens &amp; Associates, Inc.</td>\n",
       "      <td>Misappropriation  of Premiums</td>\n",
       "      <td>2012-06-20</td>\n",
       "      <td>License  permanently Revoked</td>\n",
       "      <td>11032-AG12-0321-020</td>\n",
       "      <td>https://www.in.gov/idoi/files/enforcement/1103...</td>\n",
       "    </tr>\n",
       "    <tr>\n",
       "      <th>4</th>\n",
       "      <td>Absolute Title Services, LLC</td>\n",
       "      <td>Failure  to enter RREAL transactions into data...</td>\n",
       "      <td>2016-06-30</td>\n",
       "      <td>Fine  $810.00</td>\n",
       "      <td>15181-AG16-1531-125</td>\n",
       "      <td>https://www.in.gov/idoi/files/enforcement/1518...</td>\n",
       "    </tr>\n",
       "  </tbody>\n",
       "</table>\n",
       "</div>"
      ],
      "text/plain": [
       "                           Company  \\\n",
       "0           1 Brick Insurance, LLC   \n",
       "1                35 Realserv, Inc.   \n",
       "2            A. D. Baker & Company   \n",
       "3  A.F. Stevens & Associates, Inc.   \n",
       "4     Absolute Title Services, LLC   \n",
       "\n",
       "                                           Violation        Date  \\\n",
       "0                                      No  Violation  2017-07-21   \n",
       "1                                 Failure to Respond  2009-05-21   \n",
       "2                   Lack of  Fitness/Trustworthiness  2000-12-13   \n",
       "3                      Misappropriation  of Premiums  2012-06-20   \n",
       "4  Failure  to enter RREAL transactions into data...  2016-06-30   \n",
       "\n",
       "                         Action          Case Number  \\\n",
       "0            Vacate  Suspension  13740-AG15-0303-063   \n",
       "1         Suspension of License   7983-AG09-0515-094   \n",
       "2                     Probation    168-IDOI-CO01-022   \n",
       "3  License  permanently Revoked  11032-AG12-0321-020   \n",
       "4                 Fine  $810.00  15181-AG16-1531-125   \n",
       "\n",
       "                                                Link  \n",
       "0  https://www.in.gov/idoi/files/enforcement/1374...  \n",
       "1  https://www.in.gov/idoi/files/enforcement/7983...  \n",
       "2  https://www.in.gov/idoi/files/enforcement/168-...  \n",
       "3  https://www.in.gov/idoi/files/enforcement/1103...  \n",
       "4  https://www.in.gov/idoi/files/enforcement/1518...  "
      ]
     },
     "execution_count": 65,
     "metadata": {},
     "output_type": "execute_result"
    }
   ],
   "source": [
    "companies.head()"
   ]
  },
  {
   "cell_type": "code",
   "execution_count": 66,
   "metadata": {},
   "outputs": [],
   "source": [
    "companies.to_csv('companies.csv', index=False)"
   ]
  }
 ],
 "metadata": {
  "kernelspec": {
   "display_name": "mytfenv",
   "language": "python",
   "name": "python3"
  },
  "language_info": {
   "codemirror_mode": {
    "name": "ipython",
    "version": 3
   },
   "file_extension": ".py",
   "mimetype": "text/x-python",
   "name": "python",
   "nbconvert_exporter": "python",
   "pygments_lexer": "ipython3",
   "version": "3.11.0"
  }
 },
 "nbformat": 4,
 "nbformat_minor": 2
}
